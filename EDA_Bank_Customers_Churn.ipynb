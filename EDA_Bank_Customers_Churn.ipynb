{
 "cells": [
  {
   "cell_type": "markdown",
   "id": "69250e80",
   "metadata": {},
   "source": [
    "**Exploratory Data Analysis (EDA):**\n",
    "\n",
    "\n",
    "\n"
   ]
  },
  {
   "cell_type": "markdown",
   "id": "44fdd7ad",
   "metadata": {},
   "source": [
    "#import the needed Librarie"
   ]
  },
  {
   "cell_type": "code",
   "execution_count": 1,
   "id": "f17888de",
   "metadata": {},
   "outputs": [],
   "source": [
    "import pandas as pd\n",
    "import numpy as np\n",
    "from sklearn.preprocessing import LabelEncoder\n",
    "import matplotlib.pyplot as plt\n",
    "import seaborn as sns"
   ]
  },
  {
   "cell_type": "code",
   "execution_count": 2,
   "id": "27315b4f",
   "metadata": {},
   "outputs": [],
   "source": [
    "colors = [\"green\", \"blue\", \"red\", \"yellow\", \"orange\", \"purple\", \"pink\", \"black\",  \"gray\", \"cyan\", \"magenta\"]"
   ]
  },
  {
   "cell_type": "markdown",
   "id": "0232fc0a",
   "metadata": {},
   "source": [
    "# Data Collection"
   ]
  },
  {
   "cell_type": "code",
   "execution_count": 56,
   "id": "2b118358",
   "metadata": {},
   "outputs": [],
   "source": [
    "# loading the dataset\n",
    "\n",
    "data=pd.read_csv(\"Churn_for_bank_customers.csv\")"
   ]
  },
  {
   "cell_type": "markdown",
   "id": "53259646",
   "metadata": {},
   "source": [
    "\n",
    "\n",
    "# Exploratory Data Analysis\n",
    "\n"
   ]
  },
  {
   "cell_type": "markdown",
   "id": "623f7bf2",
   "metadata": {},
   "source": [
    "<div style=\"text-align: left; color: yellow;\">\n",
    "\n",
    "\t\n",
    "\n",
    "% CustomerId . \t\n",
    "\n",
    "% Surname : surname of a customer \n",
    "\n",
    "% CreditScore:is a numerical measure of an individual's creditworthiness\n",
    "\n",
    "% Geographya :customers location \n",
    "\n",
    "% Gender :Male or Female\n",
    "\n",
    "% Age\t\t\n",
    "\n",
    "% Tenure: the number of years that the customer has been a client of the bank.\n",
    "\n",
    "% Balance: balance in customer accounts \t\n",
    "\n",
    "% NumOfProduct:the number of products that a customer has purchased through the Bank\t\n",
    "\n",
    "% HasCrCard : whether or not a customer has a credit card. \t\n",
    "\n",
    "% IsActiveMember: indicate whether customer is Active ornot\n",
    "\n",
    "% EstimatedSalary: estiamted customer Salary\n",
    "\n",
    "% Exited : whether or not the customer left the bank.\t\n",
    "\n",
    "</div>  "
   ]
  },
  {
   "cell_type": "code",
   "execution_count": 4,
   "id": "75c67d78",
   "metadata": {},
   "outputs": [
    {
     "data": {
      "text/html": [
       "<div>\n",
       "<style scoped>\n",
       "    .dataframe tbody tr th:only-of-type {\n",
       "        vertical-align: middle;\n",
       "    }\n",
       "\n",
       "    .dataframe tbody tr th {\n",
       "        vertical-align: top;\n",
       "    }\n",
       "\n",
       "    .dataframe thead th {\n",
       "        text-align: right;\n",
       "    }\n",
       "</style>\n",
       "<table border=\"1\" class=\"dataframe\">\n",
       "  <thead>\n",
       "    <tr style=\"text-align: right;\">\n",
       "      <th></th>\n",
       "      <th>Row Nu</th>\n",
       "      <th>Customer Id</th>\n",
       "      <th>Surname</th>\n",
       "      <th>Credit score</th>\n",
       "      <th>Geography</th>\n",
       "      <th>Gender</th>\n",
       "      <th>Age</th>\n",
       "      <th>Tenure</th>\n",
       "      <th>Balance</th>\n",
       "      <th>NumOfProducts</th>\n",
       "      <th>HasCrCard</th>\n",
       "      <th>IsActiveMember</th>\n",
       "      <th>EstimatedSalary</th>\n",
       "      <th>Exited</th>\n",
       "    </tr>\n",
       "  </thead>\n",
       "  <tbody>\n",
       "    <tr>\n",
       "      <th>0</th>\n",
       "      <td>1</td>\n",
       "      <td>15634602</td>\n",
       "      <td>Hargrave</td>\n",
       "      <td>619</td>\n",
       "      <td>France</td>\n",
       "      <td>Female</td>\n",
       "      <td>42</td>\n",
       "      <td>2</td>\n",
       "      <td>0.00</td>\n",
       "      <td>1</td>\n",
       "      <td>1</td>\n",
       "      <td>1</td>\n",
       "      <td>101348.88</td>\n",
       "      <td>1</td>\n",
       "    </tr>\n",
       "    <tr>\n",
       "      <th>1</th>\n",
       "      <td>2</td>\n",
       "      <td>15647311</td>\n",
       "      <td>Hill</td>\n",
       "      <td>608</td>\n",
       "      <td>Spain</td>\n",
       "      <td>Female</td>\n",
       "      <td>41</td>\n",
       "      <td>1</td>\n",
       "      <td>83807.86</td>\n",
       "      <td>1</td>\n",
       "      <td>0</td>\n",
       "      <td>1</td>\n",
       "      <td>112542.58</td>\n",
       "      <td>0</td>\n",
       "    </tr>\n",
       "    <tr>\n",
       "      <th>2</th>\n",
       "      <td>3</td>\n",
       "      <td>15619304</td>\n",
       "      <td>Onio</td>\n",
       "      <td>502</td>\n",
       "      <td>France</td>\n",
       "      <td>Female</td>\n",
       "      <td>42</td>\n",
       "      <td>8</td>\n",
       "      <td>159660.80</td>\n",
       "      <td>3</td>\n",
       "      <td>1</td>\n",
       "      <td>0</td>\n",
       "      <td>113931.57</td>\n",
       "      <td>1</td>\n",
       "    </tr>\n",
       "    <tr>\n",
       "      <th>3</th>\n",
       "      <td>4</td>\n",
       "      <td>15701354</td>\n",
       "      <td>Boni</td>\n",
       "      <td>699</td>\n",
       "      <td>France</td>\n",
       "      <td>Female</td>\n",
       "      <td>39</td>\n",
       "      <td>1</td>\n",
       "      <td>0.00</td>\n",
       "      <td>2</td>\n",
       "      <td>0</td>\n",
       "      <td>0</td>\n",
       "      <td>93826.63</td>\n",
       "      <td>0</td>\n",
       "    </tr>\n",
       "    <tr>\n",
       "      <th>4</th>\n",
       "      <td>5</td>\n",
       "      <td>15737888</td>\n",
       "      <td>Mitchell</td>\n",
       "      <td>850</td>\n",
       "      <td>Spain</td>\n",
       "      <td>Female</td>\n",
       "      <td>43</td>\n",
       "      <td>2</td>\n",
       "      <td>125510.82</td>\n",
       "      <td>1</td>\n",
       "      <td>1</td>\n",
       "      <td>1</td>\n",
       "      <td>79084.10</td>\n",
       "      <td>0</td>\n",
       "    </tr>\n",
       "  </tbody>\n",
       "</table>\n",
       "</div>"
      ],
      "text/plain": [
       "   Row Nu  Customer Id   Surname  Credit score Geography  Gender  Age  \\\n",
       "0       1     15634602  Hargrave           619    France  Female   42   \n",
       "1       2     15647311      Hill           608     Spain  Female   41   \n",
       "2       3     15619304      Onio           502    France  Female   42   \n",
       "3       4     15701354      Boni           699    France  Female   39   \n",
       "4       5     15737888  Mitchell           850     Spain  Female   43   \n",
       "\n",
       "   Tenure     Balance  NumOfProducts  HasCrCard  IsActiveMember  \\\n",
       "0        2       0.00              1          1               1   \n",
       "1        1   83807.86              1          0               1   \n",
       "2        8  159660.80              3          1               0   \n",
       "3        1       0.00              2          0               0   \n",
       "4        2  125510.82              1          1               1   \n",
       "\n",
       "   EstimatedSalary  Exited  \n",
       "0        101348.88       1  \n",
       "1        112542.58       0  \n",
       "2        113931.57       1  \n",
       "3         93826.63       0  \n",
       "4         79084.10       0  "
      ]
     },
     "execution_count": 4,
     "metadata": {},
     "output_type": "execute_result"
    }
   ],
   "source": [
    "# printing the first five rows of the dataframe\n",
    "data.head()"
   ]
  },
  {
   "cell_type": "code",
   "execution_count": 5,
   "id": "2b2270c6",
   "metadata": {},
   "outputs": [
    {
     "data": {
      "text/html": [
       "<div>\n",
       "<style scoped>\n",
       "    .dataframe tbody tr th:only-of-type {\n",
       "        vertical-align: middle;\n",
       "    }\n",
       "\n",
       "    .dataframe tbody tr th {\n",
       "        vertical-align: top;\n",
       "    }\n",
       "\n",
       "    .dataframe thead th {\n",
       "        text-align: right;\n",
       "    }\n",
       "</style>\n",
       "<table border=\"1\" class=\"dataframe\">\n",
       "  <thead>\n",
       "    <tr style=\"text-align: right;\">\n",
       "      <th></th>\n",
       "      <th>Row Nu</th>\n",
       "      <th>Customer Id</th>\n",
       "      <th>Surname</th>\n",
       "      <th>Credit score</th>\n",
       "      <th>Geography</th>\n",
       "      <th>Gender</th>\n",
       "      <th>Age</th>\n",
       "      <th>Tenure</th>\n",
       "      <th>Balance</th>\n",
       "      <th>NumOfProducts</th>\n",
       "      <th>HasCrCard</th>\n",
       "      <th>IsActiveMember</th>\n",
       "      <th>EstimatedSalary</th>\n",
       "      <th>Exited</th>\n",
       "    </tr>\n",
       "  </thead>\n",
       "  <tbody>\n",
       "    <tr>\n",
       "      <th>2599</th>\n",
       "      <td>2600</td>\n",
       "      <td>15704844</td>\n",
       "      <td>Hsiung</td>\n",
       "      <td>550</td>\n",
       "      <td>Spain</td>\n",
       "      <td>Male</td>\n",
       "      <td>62</td>\n",
       "      <td>7</td>\n",
       "      <td>80927.56</td>\n",
       "      <td>1</td>\n",
       "      <td>0</td>\n",
       "      <td>1</td>\n",
       "      <td>64490.67</td>\n",
       "      <td>0</td>\n",
       "    </tr>\n",
       "    <tr>\n",
       "      <th>6445</th>\n",
       "      <td>6446</td>\n",
       "      <td>15719170</td>\n",
       "      <td>Sagese</td>\n",
       "      <td>679</td>\n",
       "      <td>France</td>\n",
       "      <td>Female</td>\n",
       "      <td>30</td>\n",
       "      <td>1</td>\n",
       "      <td>112543.42</td>\n",
       "      <td>1</td>\n",
       "      <td>1</td>\n",
       "      <td>1</td>\n",
       "      <td>179435.21</td>\n",
       "      <td>0</td>\n",
       "    </tr>\n",
       "    <tr>\n",
       "      <th>8517</th>\n",
       "      <td>8518</td>\n",
       "      <td>15671800</td>\n",
       "      <td>Robinson</td>\n",
       "      <td>688</td>\n",
       "      <td>France</td>\n",
       "      <td>Male</td>\n",
       "      <td>20</td>\n",
       "      <td>8</td>\n",
       "      <td>137624.40</td>\n",
       "      <td>2</td>\n",
       "      <td>1</td>\n",
       "      <td>1</td>\n",
       "      <td>197582.79</td>\n",
       "      <td>0</td>\n",
       "    </tr>\n",
       "    <tr>\n",
       "      <th>5475</th>\n",
       "      <td>5476</td>\n",
       "      <td>15748608</td>\n",
       "      <td>Trentini</td>\n",
       "      <td>612</td>\n",
       "      <td>Germany</td>\n",
       "      <td>Male</td>\n",
       "      <td>42</td>\n",
       "      <td>5</td>\n",
       "      <td>141927.10</td>\n",
       "      <td>1</td>\n",
       "      <td>1</td>\n",
       "      <td>1</td>\n",
       "      <td>43018.98</td>\n",
       "      <td>0</td>\n",
       "    </tr>\n",
       "    <tr>\n",
       "      <th>5962</th>\n",
       "      <td>5963</td>\n",
       "      <td>15571193</td>\n",
       "      <td>Morrison</td>\n",
       "      <td>579</td>\n",
       "      <td>Germany</td>\n",
       "      <td>Male</td>\n",
       "      <td>42</td>\n",
       "      <td>0</td>\n",
       "      <td>144386.32</td>\n",
       "      <td>1</td>\n",
       "      <td>1</td>\n",
       "      <td>1</td>\n",
       "      <td>22497.10</td>\n",
       "      <td>1</td>\n",
       "    </tr>\n",
       "    <tr>\n",
       "      <th>6378</th>\n",
       "      <td>6379</td>\n",
       "      <td>15768763</td>\n",
       "      <td>Bogdanov</td>\n",
       "      <td>562</td>\n",
       "      <td>France</td>\n",
       "      <td>Male</td>\n",
       "      <td>37</td>\n",
       "      <td>2</td>\n",
       "      <td>0.00</td>\n",
       "      <td>1</td>\n",
       "      <td>0</td>\n",
       "      <td>1</td>\n",
       "      <td>52525.15</td>\n",
       "      <td>1</td>\n",
       "    </tr>\n",
       "    <tr>\n",
       "      <th>2246</th>\n",
       "      <td>2247</td>\n",
       "      <td>15800326</td>\n",
       "      <td>Poole</td>\n",
       "      <td>717</td>\n",
       "      <td>Spain</td>\n",
       "      <td>Female</td>\n",
       "      <td>39</td>\n",
       "      <td>6</td>\n",
       "      <td>0.00</td>\n",
       "      <td>2</td>\n",
       "      <td>1</td>\n",
       "      <td>0</td>\n",
       "      <td>93275.61</td>\n",
       "      <td>0</td>\n",
       "    </tr>\n",
       "    <tr>\n",
       "      <th>249</th>\n",
       "      <td>250</td>\n",
       "      <td>15772423</td>\n",
       "      <td>Liao</td>\n",
       "      <td>739</td>\n",
       "      <td>Germany</td>\n",
       "      <td>Male</td>\n",
       "      <td>54</td>\n",
       "      <td>8</td>\n",
       "      <td>126418.14</td>\n",
       "      <td>1</td>\n",
       "      <td>1</td>\n",
       "      <td>0</td>\n",
       "      <td>134420.75</td>\n",
       "      <td>1</td>\n",
       "    </tr>\n",
       "    <tr>\n",
       "      <th>6319</th>\n",
       "      <td>6320</td>\n",
       "      <td>15768340</td>\n",
       "      <td>Beavers</td>\n",
       "      <td>642</td>\n",
       "      <td>Germany</td>\n",
       "      <td>Female</td>\n",
       "      <td>19</td>\n",
       "      <td>3</td>\n",
       "      <td>113905.48</td>\n",
       "      <td>1</td>\n",
       "      <td>1</td>\n",
       "      <td>1</td>\n",
       "      <td>176137.20</td>\n",
       "      <td>0</td>\n",
       "    </tr>\n",
       "    <tr>\n",
       "      <th>3798</th>\n",
       "      <td>3799</td>\n",
       "      <td>15621834</td>\n",
       "      <td>Game</td>\n",
       "      <td>700</td>\n",
       "      <td>Spain</td>\n",
       "      <td>Female</td>\n",
       "      <td>43</td>\n",
       "      <td>0</td>\n",
       "      <td>0.00</td>\n",
       "      <td>2</td>\n",
       "      <td>1</td>\n",
       "      <td>0</td>\n",
       "      <td>59475.35</td>\n",
       "      <td>0</td>\n",
       "    </tr>\n",
       "  </tbody>\n",
       "</table>\n",
       "</div>"
      ],
      "text/plain": [
       "      Row Nu  Customer Id   Surname  Credit score Geography  Gender  Age  \\\n",
       "2599    2600     15704844    Hsiung           550     Spain    Male   62   \n",
       "6445    6446     15719170    Sagese           679    France  Female   30   \n",
       "8517    8518     15671800  Robinson           688    France    Male   20   \n",
       "5475    5476     15748608  Trentini           612   Germany    Male   42   \n",
       "5962    5963     15571193  Morrison           579   Germany    Male   42   \n",
       "6378    6379     15768763  Bogdanov           562    France    Male   37   \n",
       "2246    2247     15800326     Poole           717     Spain  Female   39   \n",
       "249      250     15772423      Liao           739   Germany    Male   54   \n",
       "6319    6320     15768340   Beavers           642   Germany  Female   19   \n",
       "3798    3799     15621834      Game           700     Spain  Female   43   \n",
       "\n",
       "      Tenure     Balance  NumOfProducts  HasCrCard  IsActiveMember  \\\n",
       "2599        7   80927.56              1          0               1   \n",
       "6445        1  112543.42              1          1               1   \n",
       "8517        8  137624.40              2          1               1   \n",
       "5475        5  141927.10              1          1               1   \n",
       "5962        0  144386.32              1          1               1   \n",
       "6378        2       0.00              1          0               1   \n",
       "2246        6       0.00              2          1               0   \n",
       "249         8  126418.14              1          1               0   \n",
       "6319        3  113905.48              1          1               1   \n",
       "3798        0       0.00              2          1               0   \n",
       "\n",
       "      EstimatedSalary  Exited  \n",
       "2599         64490.67       0  \n",
       "6445        179435.21       0  \n",
       "8517        197582.79       0  \n",
       "5475         43018.98       0  \n",
       "5962         22497.10       1  \n",
       "6378         52525.15       1  \n",
       "2246         93275.61       0  \n",
       "249         134420.75       1  \n",
       "6319        176137.20       0  \n",
       "3798         59475.35       0  "
      ]
     },
     "execution_count": 5,
     "metadata": {},
     "output_type": "execute_result"
    }
   ],
   "source": [
    "\n",
    "data.sample(10)"
   ]
  },
  {
   "cell_type": "code",
   "execution_count": 57,
   "id": "62a83195",
   "metadata": {},
   "outputs": [
    {
     "data": {
      "text/plain": [
       "Index(['Row Nu', 'Customer Id', 'Surname', 'Credit score', 'Geography',\n",
       "       'Gender', 'Age', 'Tenure ', 'Balance', 'NumOfProducts', 'HasCrCard',\n",
       "       'IsActiveMember', 'EstimatedSalary', 'Exited'],\n",
       "      dtype='object')"
      ]
     },
     "execution_count": 57,
     "metadata": {},
     "output_type": "execute_result"
    }
   ],
   "source": [
    "# explore columns\n",
    "data.columns"
   ]
  },
  {
   "cell_type": "code",
   "execution_count": 58,
   "id": "dd3fc998",
   "metadata": {},
   "outputs": [
    {
     "data": {
      "text/plain": [
       "(10000, 14)"
      ]
     },
     "execution_count": 58,
     "metadata": {},
     "output_type": "execute_result"
    }
   ],
   "source": [
    "#explore Data shape\n",
    "data.shape"
   ]
  },
  {
   "cell_type": "code",
   "execution_count": 59,
   "id": "ac5a612b",
   "metadata": {},
   "outputs": [
    {
     "name": "stdout",
     "output_type": "stream",
     "text": [
      "<class 'pandas.core.frame.DataFrame'>\n",
      "RangeIndex: 10000 entries, 0 to 9999\n",
      "Data columns (total 14 columns):\n",
      " #   Column           Non-Null Count  Dtype  \n",
      "---  ------           --------------  -----  \n",
      " 0   Row Nu           10000 non-null  int64  \n",
      " 1   Customer Id      10000 non-null  int64  \n",
      " 2   Surname          10000 non-null  object \n",
      " 3   Credit score     10000 non-null  int64  \n",
      " 4   Geography        10000 non-null  object \n",
      " 5   Gender           10000 non-null  object \n",
      " 6   Age              10000 non-null  int64  \n",
      " 7   Tenure           10000 non-null  int64  \n",
      " 8   Balance          10000 non-null  float64\n",
      " 9   NumOfProducts    10000 non-null  int64  \n",
      " 10  HasCrCard        10000 non-null  int64  \n",
      " 11  IsActiveMember   10000 non-null  int64  \n",
      " 12  EstimatedSalary  10000 non-null  float64\n",
      " 13  Exited           10000 non-null  int64  \n",
      "dtypes: float64(2), int64(9), object(3)\n",
      "memory usage: 1.1+ MB\n"
     ]
    }
   ],
   "source": [
    "# checking the data types\n",
    "data.info()"
   ]
  },
  {
   "cell_type": "markdown",
   "id": "6d3b5712",
   "metadata": {},
   "source": [
    "<div style=\"text-align: left; color: yellow;\">\n",
    "###############################################################\n",
    "\n",
    "\n",
    "RowNumber--> has no effect on the output. \n",
    "\n",
    "CustomerId--> has no effect on customer leaving the bank. \t\n",
    "\n",
    "Surname--> has no impact on their decision to leave the bank.\n",
    "\n",
    "</div>"
   ]
  },
  {
   "cell_type": "code",
   "execution_count": 60,
   "id": "16878114",
   "metadata": {},
   "outputs": [],
   "source": [
    "# removing the Row Nu,Customer Id and Surname column\n",
    "data.drop(columns=['Row Nu','Customer Id','Surname'], axis=1, inplace=True)"
   ]
  },
  {
   "cell_type": "code",
   "execution_count": 61,
   "id": "0e5c1b37",
   "metadata": {},
   "outputs": [
    {
     "data": {
      "text/plain": [
       "(10000, 11)"
      ]
     },
     "execution_count": 61,
     "metadata": {},
     "output_type": "execute_result"
    }
   ],
   "source": [
    "data.shape"
   ]
  },
  {
   "cell_type": "code",
   "execution_count": 62,
   "id": "1e125139",
   "metadata": {},
   "outputs": [
    {
     "name": "stdout",
     "output_type": "stream",
     "text": [
      "<class 'pandas.core.frame.DataFrame'>\n",
      "RangeIndex: 10000 entries, 0 to 9999\n",
      "Data columns (total 11 columns):\n",
      " #   Column           Non-Null Count  Dtype  \n",
      "---  ------           --------------  -----  \n",
      " 0   Credit score     10000 non-null  int64  \n",
      " 1   Geography        10000 non-null  object \n",
      " 2   Gender           10000 non-null  object \n",
      " 3   Age              10000 non-null  int64  \n",
      " 4   Tenure           10000 non-null  int64  \n",
      " 5   Balance          10000 non-null  float64\n",
      " 6   NumOfProducts    10000 non-null  int64  \n",
      " 7   HasCrCard        10000 non-null  int64  \n",
      " 8   IsActiveMember   10000 non-null  int64  \n",
      " 9   EstimatedSalary  10000 non-null  float64\n",
      " 10  Exited           10000 non-null  int64  \n",
      "dtypes: float64(2), int64(7), object(2)\n",
      "memory usage: 859.5+ KB\n"
     ]
    }
   ],
   "source": [
    "data.info()"
   ]
  },
  {
   "cell_type": "markdown",
   "id": "302d78d5",
   "metadata": {},
   "source": [
    "# Check the Null values"
   ]
  },
  {
   "cell_type": "code",
   "execution_count": 63,
   "id": "55259fa2",
   "metadata": {},
   "outputs": [
    {
     "data": {
      "text/plain": [
       "Credit score       0\n",
       "Geography          0\n",
       "Gender             0\n",
       "Age                0\n",
       "Tenure             0\n",
       "Balance            0\n",
       "NumOfProducts      0\n",
       "HasCrCard          0\n",
       "IsActiveMember     0\n",
       "EstimatedSalary    0\n",
       "Exited             0\n",
       "dtype: int64"
      ]
     },
     "execution_count": 63,
     "metadata": {},
     "output_type": "execute_result"
    }
   ],
   "source": [
    "data.isnull().sum()"
   ]
  },
  {
   "cell_type": "markdown",
   "id": "ea32ec51",
   "metadata": {},
   "source": [
    "<div style=\"text-align: left; color: yellow;\">\n",
    "~~ As we can see, the dataset has no missing values\n",
    "</div>"
   ]
  },
  {
   "cell_type": "markdown",
   "id": "818e766a",
   "metadata": {},
   "source": [
    "\n",
    "\n",
    "\n",
    "# Statistical summary of the data \n"
   ]
  },
  {
   "cell_type": "code",
   "execution_count": 64,
   "id": "4175a08c",
   "metadata": {},
   "outputs": [
    {
     "data": {
      "text/html": [
       "<div>\n",
       "<style scoped>\n",
       "    .dataframe tbody tr th:only-of-type {\n",
       "        vertical-align: middle;\n",
       "    }\n",
       "\n",
       "    .dataframe tbody tr th {\n",
       "        vertical-align: top;\n",
       "    }\n",
       "\n",
       "    .dataframe thead th {\n",
       "        text-align: right;\n",
       "    }\n",
       "</style>\n",
       "<table border=\"1\" class=\"dataframe\">\n",
       "  <thead>\n",
       "    <tr style=\"text-align: right;\">\n",
       "      <th></th>\n",
       "      <th>count</th>\n",
       "      <th>mean</th>\n",
       "      <th>std</th>\n",
       "      <th>min</th>\n",
       "      <th>25%</th>\n",
       "      <th>50%</th>\n",
       "      <th>75%</th>\n",
       "      <th>max</th>\n",
       "    </tr>\n",
       "  </thead>\n",
       "  <tbody>\n",
       "    <tr>\n",
       "      <th>Credit score</th>\n",
       "      <td>10000.0</td>\n",
       "      <td>650.528800</td>\n",
       "      <td>96.653299</td>\n",
       "      <td>350.00</td>\n",
       "      <td>584.00</td>\n",
       "      <td>652.000</td>\n",
       "      <td>718.0000</td>\n",
       "      <td>850.00</td>\n",
       "    </tr>\n",
       "    <tr>\n",
       "      <th>Age</th>\n",
       "      <td>10000.0</td>\n",
       "      <td>38.921800</td>\n",
       "      <td>10.487806</td>\n",
       "      <td>18.00</td>\n",
       "      <td>32.00</td>\n",
       "      <td>37.000</td>\n",
       "      <td>44.0000</td>\n",
       "      <td>92.00</td>\n",
       "    </tr>\n",
       "    <tr>\n",
       "      <th>Tenure</th>\n",
       "      <td>10000.0</td>\n",
       "      <td>5.012800</td>\n",
       "      <td>2.892174</td>\n",
       "      <td>0.00</td>\n",
       "      <td>3.00</td>\n",
       "      <td>5.000</td>\n",
       "      <td>7.0000</td>\n",
       "      <td>10.00</td>\n",
       "    </tr>\n",
       "    <tr>\n",
       "      <th>Balance</th>\n",
       "      <td>10000.0</td>\n",
       "      <td>76485.889288</td>\n",
       "      <td>62397.405202</td>\n",
       "      <td>0.00</td>\n",
       "      <td>0.00</td>\n",
       "      <td>97198.540</td>\n",
       "      <td>127644.2400</td>\n",
       "      <td>250898.09</td>\n",
       "    </tr>\n",
       "    <tr>\n",
       "      <th>NumOfProducts</th>\n",
       "      <td>10000.0</td>\n",
       "      <td>1.530200</td>\n",
       "      <td>0.581654</td>\n",
       "      <td>1.00</td>\n",
       "      <td>1.00</td>\n",
       "      <td>1.000</td>\n",
       "      <td>2.0000</td>\n",
       "      <td>4.00</td>\n",
       "    </tr>\n",
       "    <tr>\n",
       "      <th>HasCrCard</th>\n",
       "      <td>10000.0</td>\n",
       "      <td>0.705500</td>\n",
       "      <td>0.455840</td>\n",
       "      <td>0.00</td>\n",
       "      <td>0.00</td>\n",
       "      <td>1.000</td>\n",
       "      <td>1.0000</td>\n",
       "      <td>1.00</td>\n",
       "    </tr>\n",
       "    <tr>\n",
       "      <th>IsActiveMember</th>\n",
       "      <td>10000.0</td>\n",
       "      <td>0.515100</td>\n",
       "      <td>0.499797</td>\n",
       "      <td>0.00</td>\n",
       "      <td>0.00</td>\n",
       "      <td>1.000</td>\n",
       "      <td>1.0000</td>\n",
       "      <td>1.00</td>\n",
       "    </tr>\n",
       "    <tr>\n",
       "      <th>EstimatedSalary</th>\n",
       "      <td>10000.0</td>\n",
       "      <td>100090.239881</td>\n",
       "      <td>57510.492818</td>\n",
       "      <td>11.58</td>\n",
       "      <td>51002.11</td>\n",
       "      <td>100193.915</td>\n",
       "      <td>149388.2475</td>\n",
       "      <td>199992.48</td>\n",
       "    </tr>\n",
       "    <tr>\n",
       "      <th>Exited</th>\n",
       "      <td>10000.0</td>\n",
       "      <td>0.203700</td>\n",
       "      <td>0.402769</td>\n",
       "      <td>0.00</td>\n",
       "      <td>0.00</td>\n",
       "      <td>0.000</td>\n",
       "      <td>0.0000</td>\n",
       "      <td>1.00</td>\n",
       "    </tr>\n",
       "  </tbody>\n",
       "</table>\n",
       "</div>"
      ],
      "text/plain": [
       "                   count           mean           std     min       25%  \\\n",
       "Credit score     10000.0     650.528800     96.653299  350.00    584.00   \n",
       "Age              10000.0      38.921800     10.487806   18.00     32.00   \n",
       "Tenure           10000.0       5.012800      2.892174    0.00      3.00   \n",
       "Balance          10000.0   76485.889288  62397.405202    0.00      0.00   \n",
       "NumOfProducts    10000.0       1.530200      0.581654    1.00      1.00   \n",
       "HasCrCard        10000.0       0.705500      0.455840    0.00      0.00   \n",
       "IsActiveMember   10000.0       0.515100      0.499797    0.00      0.00   \n",
       "EstimatedSalary  10000.0  100090.239881  57510.492818   11.58  51002.11   \n",
       "Exited           10000.0       0.203700      0.402769    0.00      0.00   \n",
       "\n",
       "                        50%          75%        max  \n",
       "Credit score        652.000     718.0000     850.00  \n",
       "Age                  37.000      44.0000      92.00  \n",
       "Tenure                5.000       7.0000      10.00  \n",
       "Balance           97198.540  127644.2400  250898.09  \n",
       "NumOfProducts         1.000       2.0000       4.00  \n",
       "HasCrCard             1.000       1.0000       1.00  \n",
       "IsActiveMember        1.000       1.0000       1.00  \n",
       "EstimatedSalary  100193.915  149388.2475  199992.48  \n",
       "Exited                0.000       0.0000       1.00  "
      ]
     },
     "execution_count": 64,
     "metadata": {},
     "output_type": "execute_result"
    }
   ],
   "source": [
    "data.describe().T"
   ]
  },
  {
   "cell_type": "markdown",
   "id": "f6eb32f4",
   "metadata": {},
   "source": [
    "<div style=\"text-align: left; color: yellow;\">\n",
    "~~ mean & median (50th Percentile) are close to each other for creditscore,Age,Tenure and EstimatedSalary\n",
    "</div>"
   ]
  },
  {
   "cell_type": "markdown",
   "id": "9262755d",
   "metadata": {},
   "source": [
    "Checking the distribution of target Variable.\n",
    "\n"
   ]
  },
  {
   "cell_type": "code",
   "execution_count": 65,
   "id": "10093e6f",
   "metadata": {},
   "outputs": [
    {
     "data": {
      "text/plain": [
       "Exited\n",
       "0    7963\n",
       "1    2037\n",
       "Name: count, dtype: int64"
      ]
     },
     "execution_count": 65,
     "metadata": {},
     "output_type": "execute_result"
    }
   ],
   "source": [
    "data[\"Exited\"].value_counts()"
   ]
  },
  {
   "cell_type": "markdown",
   "id": "8a0fce4a",
   "metadata": {},
   "source": [
    "<div style=\"text-align: left; color: yellow;\">\n",
    "~~There is an imbalance in the data.\n",
    "\n",
    "\n",
    "Data Augmentation may be needed\n",
    "</div>"
   ]
  },
  {
   "cell_type": "markdown",
   "id": "e96b1247",
   "metadata": {},
   "source": [
    "Checking the non-numiric columns"
   ]
  },
  {
   "cell_type": "code",
   "execution_count": 66,
   "id": "bee644d5",
   "metadata": {},
   "outputs": [
    {
     "data": {
      "text/plain": [
       "Gender\n",
       "Male      5457\n",
       "Female    4543\n",
       "Name: count, dtype: int64"
      ]
     },
     "execution_count": 66,
     "metadata": {},
     "output_type": "execute_result"
    }
   ],
   "source": [
    "data[\"Gender\"].value_counts()"
   ]
  },
  {
   "cell_type": "markdown",
   "id": "effe68cb",
   "metadata": {},
   "source": [
    "Label Encoding for Gender"
   ]
  },
  {
   "cell_type": "code",
   "execution_count": 67,
   "id": "cd100d80",
   "metadata": {},
   "outputs": [],
   "source": [
    "# encoding the target column\n",
    "G_encode = LabelEncoder()\n",
    "\n",
    "labels = G_encode.fit_transform(data['Gender'])\n",
    "\n",
    "data['gender'] = labels\n",
    "\n"
   ]
  },
  {
   "cell_type": "code",
   "execution_count": 68,
   "id": "e5768cfb",
   "metadata": {},
   "outputs": [
    {
     "data": {
      "text/plain": [
       "gender\n",
       "1    5457\n",
       "0    4543\n",
       "Name: count, dtype: int64"
      ]
     },
     "execution_count": 68,
     "metadata": {},
     "output_type": "execute_result"
    }
   ],
   "source": [
    "data[\"gender\"].value_counts()"
   ]
  },
  {
   "cell_type": "code",
   "execution_count": 69,
   "id": "90c2f962",
   "metadata": {},
   "outputs": [
    {
     "data": {
      "text/plain": [
       "Geography\n",
       "France     5014\n",
       "Germany    2509\n",
       "Spain      2477\n",
       "Name: count, dtype: int64"
      ]
     },
     "execution_count": 69,
     "metadata": {},
     "output_type": "execute_result"
    }
   ],
   "source": [
    "data[\"Geography\"].value_counts()"
   ]
  },
  {
   "cell_type": "markdown",
   "id": "7d87eb29",
   "metadata": {},
   "source": [
    "encoding Geography because of the three values"
   ]
  },
  {
   "cell_type": "code",
   "execution_count": 70,
   "id": "d2257c0e",
   "metadata": {},
   "outputs": [
    {
     "data": {
      "text/html": [
       "<div>\n",
       "<style scoped>\n",
       "    .dataframe tbody tr th:only-of-type {\n",
       "        vertical-align: middle;\n",
       "    }\n",
       "\n",
       "    .dataframe tbody tr th {\n",
       "        vertical-align: top;\n",
       "    }\n",
       "\n",
       "    .dataframe thead th {\n",
       "        text-align: right;\n",
       "    }\n",
       "</style>\n",
       "<table border=\"1\" class=\"dataframe\">\n",
       "  <thead>\n",
       "    <tr style=\"text-align: right;\">\n",
       "      <th></th>\n",
       "      <th>Geography_France</th>\n",
       "      <th>Geography_Germany</th>\n",
       "      <th>Geography_Spain</th>\n",
       "    </tr>\n",
       "  </thead>\n",
       "  <tbody>\n",
       "    <tr>\n",
       "      <th>0</th>\n",
       "      <td>1.0</td>\n",
       "      <td>0.0</td>\n",
       "      <td>0.0</td>\n",
       "    </tr>\n",
       "    <tr>\n",
       "      <th>1</th>\n",
       "      <td>0.0</td>\n",
       "      <td>0.0</td>\n",
       "      <td>1.0</td>\n",
       "    </tr>\n",
       "    <tr>\n",
       "      <th>2</th>\n",
       "      <td>1.0</td>\n",
       "      <td>0.0</td>\n",
       "      <td>0.0</td>\n",
       "    </tr>\n",
       "    <tr>\n",
       "      <th>3</th>\n",
       "      <td>1.0</td>\n",
       "      <td>0.0</td>\n",
       "      <td>0.0</td>\n",
       "    </tr>\n",
       "    <tr>\n",
       "      <th>4</th>\n",
       "      <td>0.0</td>\n",
       "      <td>0.0</td>\n",
       "      <td>1.0</td>\n",
       "    </tr>\n",
       "    <tr>\n",
       "      <th>...</th>\n",
       "      <td>...</td>\n",
       "      <td>...</td>\n",
       "      <td>...</td>\n",
       "    </tr>\n",
       "    <tr>\n",
       "      <th>9995</th>\n",
       "      <td>1.0</td>\n",
       "      <td>0.0</td>\n",
       "      <td>0.0</td>\n",
       "    </tr>\n",
       "    <tr>\n",
       "      <th>9996</th>\n",
       "      <td>1.0</td>\n",
       "      <td>0.0</td>\n",
       "      <td>0.0</td>\n",
       "    </tr>\n",
       "    <tr>\n",
       "      <th>9997</th>\n",
       "      <td>1.0</td>\n",
       "      <td>0.0</td>\n",
       "      <td>0.0</td>\n",
       "    </tr>\n",
       "    <tr>\n",
       "      <th>9998</th>\n",
       "      <td>0.0</td>\n",
       "      <td>1.0</td>\n",
       "      <td>0.0</td>\n",
       "    </tr>\n",
       "    <tr>\n",
       "      <th>9999</th>\n",
       "      <td>1.0</td>\n",
       "      <td>0.0</td>\n",
       "      <td>0.0</td>\n",
       "    </tr>\n",
       "  </tbody>\n",
       "</table>\n",
       "<p>10000 rows × 3 columns</p>\n",
       "</div>"
      ],
      "text/plain": [
       "      Geography_France  Geography_Germany  Geography_Spain\n",
       "0                  1.0                0.0              0.0\n",
       "1                  0.0                0.0              1.0\n",
       "2                  1.0                0.0              0.0\n",
       "3                  1.0                0.0              0.0\n",
       "4                  0.0                0.0              1.0\n",
       "...                ...                ...              ...\n",
       "9995               1.0                0.0              0.0\n",
       "9996               1.0                0.0              0.0\n",
       "9997               1.0                0.0              0.0\n",
       "9998               0.0                1.0              0.0\n",
       "9999               1.0                0.0              0.0\n",
       "\n",
       "[10000 rows x 3 columns]"
      ]
     },
     "execution_count": 70,
     "metadata": {},
     "output_type": "execute_result"
    }
   ],
   "source": [
    "Geo_labeles=pd.get_dummies(data[\"Geography\"],prefix=\"Geography\").astype(float)\n",
    "Geo_labeles"
   ]
  },
  {
   "cell_type": "code",
   "execution_count": 71,
   "id": "546b07f9",
   "metadata": {},
   "outputs": [],
   "source": [
    "data = pd.concat([data, Geo_labeles], axis=1)\n",
    "\n"
   ]
  },
  {
   "cell_type": "code",
   "execution_count": 72,
   "id": "2c648d59",
   "metadata": {},
   "outputs": [
    {
     "data": {
      "text/html": [
       "<div>\n",
       "<style scoped>\n",
       "    .dataframe tbody tr th:only-of-type {\n",
       "        vertical-align: middle;\n",
       "    }\n",
       "\n",
       "    .dataframe tbody tr th {\n",
       "        vertical-align: top;\n",
       "    }\n",
       "\n",
       "    .dataframe thead th {\n",
       "        text-align: right;\n",
       "    }\n",
       "</style>\n",
       "<table border=\"1\" class=\"dataframe\">\n",
       "  <thead>\n",
       "    <tr style=\"text-align: right;\">\n",
       "      <th></th>\n",
       "      <th>Credit score</th>\n",
       "      <th>Geography</th>\n",
       "      <th>Gender</th>\n",
       "      <th>Age</th>\n",
       "      <th>Tenure</th>\n",
       "      <th>Balance</th>\n",
       "      <th>NumOfProducts</th>\n",
       "      <th>HasCrCard</th>\n",
       "      <th>IsActiveMember</th>\n",
       "      <th>EstimatedSalary</th>\n",
       "      <th>Exited</th>\n",
       "      <th>gender</th>\n",
       "      <th>Geography_France</th>\n",
       "      <th>Geography_Germany</th>\n",
       "      <th>Geography_Spain</th>\n",
       "    </tr>\n",
       "  </thead>\n",
       "  <tbody>\n",
       "    <tr>\n",
       "      <th>295</th>\n",
       "      <td>773</td>\n",
       "      <td>France</td>\n",
       "      <td>Male</td>\n",
       "      <td>25</td>\n",
       "      <td>2</td>\n",
       "      <td>135903.33</td>\n",
       "      <td>1</td>\n",
       "      <td>1</td>\n",
       "      <td>0</td>\n",
       "      <td>73656.38</td>\n",
       "      <td>0</td>\n",
       "      <td>1</td>\n",
       "      <td>1.0</td>\n",
       "      <td>0.0</td>\n",
       "      <td>0.0</td>\n",
       "    </tr>\n",
       "    <tr>\n",
       "      <th>2874</th>\n",
       "      <td>831</td>\n",
       "      <td>Germany</td>\n",
       "      <td>Male</td>\n",
       "      <td>32</td>\n",
       "      <td>9</td>\n",
       "      <td>80262.66</td>\n",
       "      <td>1</td>\n",
       "      <td>1</td>\n",
       "      <td>0</td>\n",
       "      <td>194867.78</td>\n",
       "      <td>0</td>\n",
       "      <td>1</td>\n",
       "      <td>0.0</td>\n",
       "      <td>1.0</td>\n",
       "      <td>0.0</td>\n",
       "    </tr>\n",
       "    <tr>\n",
       "      <th>5135</th>\n",
       "      <td>518</td>\n",
       "      <td>France</td>\n",
       "      <td>Male</td>\n",
       "      <td>40</td>\n",
       "      <td>4</td>\n",
       "      <td>0.00</td>\n",
       "      <td>2</td>\n",
       "      <td>0</td>\n",
       "      <td>1</td>\n",
       "      <td>194416.58</td>\n",
       "      <td>0</td>\n",
       "      <td>1</td>\n",
       "      <td>1.0</td>\n",
       "      <td>0.0</td>\n",
       "      <td>0.0</td>\n",
       "    </tr>\n",
       "    <tr>\n",
       "      <th>1214</th>\n",
       "      <td>579</td>\n",
       "      <td>Spain</td>\n",
       "      <td>Male</td>\n",
       "      <td>33</td>\n",
       "      <td>6</td>\n",
       "      <td>0.00</td>\n",
       "      <td>1</td>\n",
       "      <td>1</td>\n",
       "      <td>0</td>\n",
       "      <td>94993.04</td>\n",
       "      <td>1</td>\n",
       "      <td>1</td>\n",
       "      <td>0.0</td>\n",
       "      <td>0.0</td>\n",
       "      <td>1.0</td>\n",
       "    </tr>\n",
       "    <tr>\n",
       "      <th>9572</th>\n",
       "      <td>644</td>\n",
       "      <td>Spain</td>\n",
       "      <td>Male</td>\n",
       "      <td>18</td>\n",
       "      <td>7</td>\n",
       "      <td>0.00</td>\n",
       "      <td>1</td>\n",
       "      <td>0</td>\n",
       "      <td>1</td>\n",
       "      <td>59645.24</td>\n",
       "      <td>1</td>\n",
       "      <td>1</td>\n",
       "      <td>0.0</td>\n",
       "      <td>0.0</td>\n",
       "      <td>1.0</td>\n",
       "    </tr>\n",
       "    <tr>\n",
       "      <th>8992</th>\n",
       "      <td>608</td>\n",
       "      <td>Germany</td>\n",
       "      <td>Female</td>\n",
       "      <td>40</td>\n",
       "      <td>8</td>\n",
       "      <td>121729.42</td>\n",
       "      <td>1</td>\n",
       "      <td>0</td>\n",
       "      <td>0</td>\n",
       "      <td>61164.45</td>\n",
       "      <td>0</td>\n",
       "      <td>0</td>\n",
       "      <td>0.0</td>\n",
       "      <td>1.0</td>\n",
       "      <td>0.0</td>\n",
       "    </tr>\n",
       "    <tr>\n",
       "      <th>7089</th>\n",
       "      <td>635</td>\n",
       "      <td>Spain</td>\n",
       "      <td>Female</td>\n",
       "      <td>48</td>\n",
       "      <td>2</td>\n",
       "      <td>0.00</td>\n",
       "      <td>2</td>\n",
       "      <td>1</td>\n",
       "      <td>1</td>\n",
       "      <td>136551.25</td>\n",
       "      <td>0</td>\n",
       "      <td>0</td>\n",
       "      <td>0.0</td>\n",
       "      <td>0.0</td>\n",
       "      <td>1.0</td>\n",
       "    </tr>\n",
       "    <tr>\n",
       "      <th>3742</th>\n",
       "      <td>587</td>\n",
       "      <td>Germany</td>\n",
       "      <td>Female</td>\n",
       "      <td>39</td>\n",
       "      <td>6</td>\n",
       "      <td>101851.80</td>\n",
       "      <td>2</td>\n",
       "      <td>1</td>\n",
       "      <td>0</td>\n",
       "      <td>7103.71</td>\n",
       "      <td>0</td>\n",
       "      <td>0</td>\n",
       "      <td>0.0</td>\n",
       "      <td>1.0</td>\n",
       "      <td>0.0</td>\n",
       "    </tr>\n",
       "    <tr>\n",
       "      <th>2091</th>\n",
       "      <td>661</td>\n",
       "      <td>France</td>\n",
       "      <td>Female</td>\n",
       "      <td>37</td>\n",
       "      <td>5</td>\n",
       "      <td>136425.18</td>\n",
       "      <td>1</td>\n",
       "      <td>1</td>\n",
       "      <td>0</td>\n",
       "      <td>81102.81</td>\n",
       "      <td>0</td>\n",
       "      <td>0</td>\n",
       "      <td>1.0</td>\n",
       "      <td>0.0</td>\n",
       "      <td>0.0</td>\n",
       "    </tr>\n",
       "    <tr>\n",
       "      <th>4585</th>\n",
       "      <td>603</td>\n",
       "      <td>France</td>\n",
       "      <td>Male</td>\n",
       "      <td>30</td>\n",
       "      <td>8</td>\n",
       "      <td>0.00</td>\n",
       "      <td>2</td>\n",
       "      <td>1</td>\n",
       "      <td>1</td>\n",
       "      <td>47536.46</td>\n",
       "      <td>0</td>\n",
       "      <td>1</td>\n",
       "      <td>1.0</td>\n",
       "      <td>0.0</td>\n",
       "      <td>0.0</td>\n",
       "    </tr>\n",
       "  </tbody>\n",
       "</table>\n",
       "</div>"
      ],
      "text/plain": [
       "      Credit score Geography  Gender  Age  Tenure     Balance  NumOfProducts  \\\n",
       "295            773    France    Male   25        2  135903.33              1   \n",
       "2874           831   Germany    Male   32        9   80262.66              1   \n",
       "5135           518    France    Male   40        4       0.00              2   \n",
       "1214           579     Spain    Male   33        6       0.00              1   \n",
       "9572           644     Spain    Male   18        7       0.00              1   \n",
       "8992           608   Germany  Female   40        8  121729.42              1   \n",
       "7089           635     Spain  Female   48        2       0.00              2   \n",
       "3742           587   Germany  Female   39        6  101851.80              2   \n",
       "2091           661    France  Female   37        5  136425.18              1   \n",
       "4585           603    France    Male   30        8       0.00              2   \n",
       "\n",
       "      HasCrCard  IsActiveMember  EstimatedSalary  Exited  gender  \\\n",
       "295           1               0         73656.38       0       1   \n",
       "2874          1               0        194867.78       0       1   \n",
       "5135          0               1        194416.58       0       1   \n",
       "1214          1               0         94993.04       1       1   \n",
       "9572          0               1         59645.24       1       1   \n",
       "8992          0               0         61164.45       0       0   \n",
       "7089          1               1        136551.25       0       0   \n",
       "3742          1               0          7103.71       0       0   \n",
       "2091          1               0         81102.81       0       0   \n",
       "4585          1               1         47536.46       0       1   \n",
       "\n",
       "      Geography_France  Geography_Germany  Geography_Spain  \n",
       "295                1.0                0.0              0.0  \n",
       "2874               0.0                1.0              0.0  \n",
       "5135               1.0                0.0              0.0  \n",
       "1214               0.0                0.0              1.0  \n",
       "9572               0.0                0.0              1.0  \n",
       "8992               0.0                1.0              0.0  \n",
       "7089               0.0                0.0              1.0  \n",
       "3742               0.0                1.0              0.0  \n",
       "2091               1.0                0.0              0.0  \n",
       "4585               1.0                0.0              0.0  "
      ]
     },
     "execution_count": 72,
     "metadata": {},
     "output_type": "execute_result"
    }
   ],
   "source": [
    "data.sample(10)"
   ]
  },
  {
   "cell_type": "code",
   "execution_count": 73,
   "id": "fba29af7",
   "metadata": {},
   "outputs": [
    {
     "data": {
      "text/html": [
       "<div>\n",
       "<style scoped>\n",
       "    .dataframe tbody tr th:only-of-type {\n",
       "        vertical-align: middle;\n",
       "    }\n",
       "\n",
       "    .dataframe tbody tr th {\n",
       "        vertical-align: top;\n",
       "    }\n",
       "\n",
       "    .dataframe thead th {\n",
       "        text-align: right;\n",
       "    }\n",
       "</style>\n",
       "<table border=\"1\" class=\"dataframe\">\n",
       "  <thead>\n",
       "    <tr style=\"text-align: right;\">\n",
       "      <th></th>\n",
       "      <th>count</th>\n",
       "      <th>mean</th>\n",
       "      <th>std</th>\n",
       "      <th>min</th>\n",
       "      <th>25%</th>\n",
       "      <th>50%</th>\n",
       "      <th>75%</th>\n",
       "      <th>max</th>\n",
       "    </tr>\n",
       "  </thead>\n",
       "  <tbody>\n",
       "    <tr>\n",
       "      <th>Credit score</th>\n",
       "      <td>10000.0</td>\n",
       "      <td>650.528800</td>\n",
       "      <td>96.653299</td>\n",
       "      <td>350.00</td>\n",
       "      <td>584.00</td>\n",
       "      <td>652.000</td>\n",
       "      <td>718.0000</td>\n",
       "      <td>850.00</td>\n",
       "    </tr>\n",
       "    <tr>\n",
       "      <th>Age</th>\n",
       "      <td>10000.0</td>\n",
       "      <td>38.921800</td>\n",
       "      <td>10.487806</td>\n",
       "      <td>18.00</td>\n",
       "      <td>32.00</td>\n",
       "      <td>37.000</td>\n",
       "      <td>44.0000</td>\n",
       "      <td>92.00</td>\n",
       "    </tr>\n",
       "    <tr>\n",
       "      <th>Tenure</th>\n",
       "      <td>10000.0</td>\n",
       "      <td>5.012800</td>\n",
       "      <td>2.892174</td>\n",
       "      <td>0.00</td>\n",
       "      <td>3.00</td>\n",
       "      <td>5.000</td>\n",
       "      <td>7.0000</td>\n",
       "      <td>10.00</td>\n",
       "    </tr>\n",
       "    <tr>\n",
       "      <th>Balance</th>\n",
       "      <td>10000.0</td>\n",
       "      <td>76485.889288</td>\n",
       "      <td>62397.405202</td>\n",
       "      <td>0.00</td>\n",
       "      <td>0.00</td>\n",
       "      <td>97198.540</td>\n",
       "      <td>127644.2400</td>\n",
       "      <td>250898.09</td>\n",
       "    </tr>\n",
       "    <tr>\n",
       "      <th>NumOfProducts</th>\n",
       "      <td>10000.0</td>\n",
       "      <td>1.530200</td>\n",
       "      <td>0.581654</td>\n",
       "      <td>1.00</td>\n",
       "      <td>1.00</td>\n",
       "      <td>1.000</td>\n",
       "      <td>2.0000</td>\n",
       "      <td>4.00</td>\n",
       "    </tr>\n",
       "    <tr>\n",
       "      <th>HasCrCard</th>\n",
       "      <td>10000.0</td>\n",
       "      <td>0.705500</td>\n",
       "      <td>0.455840</td>\n",
       "      <td>0.00</td>\n",
       "      <td>0.00</td>\n",
       "      <td>1.000</td>\n",
       "      <td>1.0000</td>\n",
       "      <td>1.00</td>\n",
       "    </tr>\n",
       "    <tr>\n",
       "      <th>IsActiveMember</th>\n",
       "      <td>10000.0</td>\n",
       "      <td>0.515100</td>\n",
       "      <td>0.499797</td>\n",
       "      <td>0.00</td>\n",
       "      <td>0.00</td>\n",
       "      <td>1.000</td>\n",
       "      <td>1.0000</td>\n",
       "      <td>1.00</td>\n",
       "    </tr>\n",
       "    <tr>\n",
       "      <th>EstimatedSalary</th>\n",
       "      <td>10000.0</td>\n",
       "      <td>100090.239881</td>\n",
       "      <td>57510.492818</td>\n",
       "      <td>11.58</td>\n",
       "      <td>51002.11</td>\n",
       "      <td>100193.915</td>\n",
       "      <td>149388.2475</td>\n",
       "      <td>199992.48</td>\n",
       "    </tr>\n",
       "    <tr>\n",
       "      <th>Exited</th>\n",
       "      <td>10000.0</td>\n",
       "      <td>0.203700</td>\n",
       "      <td>0.402769</td>\n",
       "      <td>0.00</td>\n",
       "      <td>0.00</td>\n",
       "      <td>0.000</td>\n",
       "      <td>0.0000</td>\n",
       "      <td>1.00</td>\n",
       "    </tr>\n",
       "    <tr>\n",
       "      <th>gender</th>\n",
       "      <td>10000.0</td>\n",
       "      <td>0.545700</td>\n",
       "      <td>0.497932</td>\n",
       "      <td>0.00</td>\n",
       "      <td>0.00</td>\n",
       "      <td>1.000</td>\n",
       "      <td>1.0000</td>\n",
       "      <td>1.00</td>\n",
       "    </tr>\n",
       "    <tr>\n",
       "      <th>Geography_France</th>\n",
       "      <td>10000.0</td>\n",
       "      <td>0.501400</td>\n",
       "      <td>0.500023</td>\n",
       "      <td>0.00</td>\n",
       "      <td>0.00</td>\n",
       "      <td>1.000</td>\n",
       "      <td>1.0000</td>\n",
       "      <td>1.00</td>\n",
       "    </tr>\n",
       "    <tr>\n",
       "      <th>Geography_Germany</th>\n",
       "      <td>10000.0</td>\n",
       "      <td>0.250900</td>\n",
       "      <td>0.433553</td>\n",
       "      <td>0.00</td>\n",
       "      <td>0.00</td>\n",
       "      <td>0.000</td>\n",
       "      <td>1.0000</td>\n",
       "      <td>1.00</td>\n",
       "    </tr>\n",
       "    <tr>\n",
       "      <th>Geography_Spain</th>\n",
       "      <td>10000.0</td>\n",
       "      <td>0.247700</td>\n",
       "      <td>0.431698</td>\n",
       "      <td>0.00</td>\n",
       "      <td>0.00</td>\n",
       "      <td>0.000</td>\n",
       "      <td>0.0000</td>\n",
       "      <td>1.00</td>\n",
       "    </tr>\n",
       "  </tbody>\n",
       "</table>\n",
       "</div>"
      ],
      "text/plain": [
       "                     count           mean           std     min       25%  \\\n",
       "Credit score       10000.0     650.528800     96.653299  350.00    584.00   \n",
       "Age                10000.0      38.921800     10.487806   18.00     32.00   \n",
       "Tenure             10000.0       5.012800      2.892174    0.00      3.00   \n",
       "Balance            10000.0   76485.889288  62397.405202    0.00      0.00   \n",
       "NumOfProducts      10000.0       1.530200      0.581654    1.00      1.00   \n",
       "HasCrCard          10000.0       0.705500      0.455840    0.00      0.00   \n",
       "IsActiveMember     10000.0       0.515100      0.499797    0.00      0.00   \n",
       "EstimatedSalary    10000.0  100090.239881  57510.492818   11.58  51002.11   \n",
       "Exited             10000.0       0.203700      0.402769    0.00      0.00   \n",
       "gender             10000.0       0.545700      0.497932    0.00      0.00   \n",
       "Geography_France   10000.0       0.501400      0.500023    0.00      0.00   \n",
       "Geography_Germany  10000.0       0.250900      0.433553    0.00      0.00   \n",
       "Geography_Spain    10000.0       0.247700      0.431698    0.00      0.00   \n",
       "\n",
       "                          50%          75%        max  \n",
       "Credit score          652.000     718.0000     850.00  \n",
       "Age                    37.000      44.0000      92.00  \n",
       "Tenure                  5.000       7.0000      10.00  \n",
       "Balance             97198.540  127644.2400  250898.09  \n",
       "NumOfProducts           1.000       2.0000       4.00  \n",
       "HasCrCard               1.000       1.0000       1.00  \n",
       "IsActiveMember          1.000       1.0000       1.00  \n",
       "EstimatedSalary    100193.915  149388.2475  199992.48  \n",
       "Exited                  0.000       0.0000       1.00  \n",
       "gender                  1.000       1.0000       1.00  \n",
       "Geography_France        1.000       1.0000       1.00  \n",
       "Geography_Germany       0.000       1.0000       1.00  \n",
       "Geography_Spain         0.000       0.0000       1.00  "
      ]
     },
     "execution_count": 73,
     "metadata": {},
     "output_type": "execute_result"
    }
   ],
   "source": [
    "data.describe().T"
   ]
  },
  {
   "cell_type": "markdown",
   "id": "6de44aee",
   "metadata": {},
   "source": [
    "<div style=\"text-align: left; color: yellow;\">\n",
    "~~\n",
    "\n",
    "</div>"
   ]
  },
  {
   "cell_type": "code",
   "execution_count": 74,
   "id": "b10507eb",
   "metadata": {},
   "outputs": [
    {
     "data": {
      "text/plain": [
       "array([[<Axes: title={'center': 'Credit score'}>,\n",
       "        <Axes: title={'center': 'Age'}>,\n",
       "        <Axes: title={'center': 'Tenure '}>,\n",
       "        <Axes: title={'center': 'Balance'}>],\n",
       "       [<Axes: title={'center': 'NumOfProducts'}>,\n",
       "        <Axes: title={'center': 'HasCrCard'}>,\n",
       "        <Axes: title={'center': 'IsActiveMember'}>,\n",
       "        <Axes: title={'center': 'EstimatedSalary'}>],\n",
       "       [<Axes: title={'center': 'Exited'}>,\n",
       "        <Axes: title={'center': 'gender'}>,\n",
       "        <Axes: title={'center': 'Geography_France'}>,\n",
       "        <Axes: title={'center': 'Geography_Germany'}>],\n",
       "       [<Axes: title={'center': 'Geography_Spain'}>, <Axes: >, <Axes: >,\n",
       "        <Axes: >]], dtype=object)"
      ]
     },
     "execution_count": 74,
     "metadata": {},
     "output_type": "execute_result"
    },
    {
     "data": {
      "image/png": "[encoded data removed]",
      "text/plain": [
       "<Figure size 1600x1000 with 16 Axes>"
      ]
     },
     "metadata": {},
     "output_type": "display_data"
    }
   ],
   "source": [
    "data.hist(figsize=(16,10))"
   ]
  },
  {
   "cell_type": "code",
   "execution_count": 75,
   "id": "ed71ee10",
   "metadata": {},
   "outputs": [
    {
     "data": {
      "image/png": "[encoded data removed]",
      "text/plain": [
       "<Figure size 600x400 with 1 Axes>"
      ]
     },
     "metadata": {},
     "output_type": "display_data"
    },
    {
     "data": {
      "image/png": "[encoded data removed]",
      "text/plain": [
       "<Figure size 600x400 with 1 Axes>"
      ]
     },
     "metadata": {},
     "output_type": "display_data"
    },
    {
     "data": {
      "image/png": "[encoded data removed]",
      "text/plain": [
       "<Figure size 600x400 with 1 Axes>"
      ]
     },
     "metadata": {},
     "output_type": "display_data"
    },
    {
     "data": {
      "image/png": "[encoded data removed]",
      "text/plain": [
       "<Figure size 600x400 with 1 Axes>"
      ]
     },
     "metadata": {},
     "output_type": "display_data"
    },
    {
     "data": {
      "image/png": "[encoded data removed]",
      "text/plain": [
       "<Figure size 600x400 with 1 Axes>"
      ]
     },
     "metadata": {},
     "output_type": "display_data"
    },
    {
     "data": {
      "image/png": "[encoded data removed]",
      "text/plain": [
       "<Figure size 600x400 with 1 Axes>"
      ]
     },
     "metadata": {},
     "output_type": "display_data"
    }
   ],
   "source": [
    "features=['Credit score','Age', 'Tenure ', 'Balance', 'NumOfProducts', 'EstimatedSalary']\n",
    "\n",
    "for f in features :\n",
    "    mean_balance = data.groupby(\"Exited\")[f].mean()\n",
    "    median_balance = data.groupby(\"Exited\")[f].median()\n",
    "\n",
    "\n",
    "    mean_balance.rename(index={0: \"Not Exited\", 1: \"Exited\"}, inplace=True)\n",
    "    median_balance.rename(index={0: \"Not Exited\", 1: \"Exited\"}, inplace=True)\n",
    "\n",
    "    # Combine mean and median values into a single DataFrame\n",
    "    counts = pd.DataFrame({\n",
    "        \"Mean \": mean_balance,\n",
    "        \"Median \": median_balance\n",
    "    })\n",
    "\n",
    "    # Plot the data\n",
    "    plt.figure(figsize=(6, 4))\n",
    "    x = np.arange(len(counts.index))  # the x locations for the groups\n",
    "    width = 0.35  # the width of the bars\n",
    "\n",
    "    # Create bar plots for mean and median\n",
    "    bars_mean=plt.bar(x - width/2, counts[\"Mean \"], width, label=\"Mean \", color=\"#1f77b4\")\n",
    "    bars_median=plt.bar(x + width/2, counts[\"Median \"], width, label=\"Median \", color=\"#ff7f0e\")\n",
    "\n",
    "    # Add labels and formatting\n",
    "    plt.xlabel(\"Exited Group\")\n",
    "    plt.ylabel(f)\n",
    "    tit=\"Mean and Median \"+ f+\" for each Exit status\"\n",
    "    plt.title(tit)\n",
    "    plt.xticks(x, counts.index)\n",
    "    plt.legend(loc='lower center')\n",
    "    # plt.tight_layout()\n",
    "\n",
    "\n",
    "\n",
    "\n",
    "\n",
    "    # Show the plot\n",
    "    plt.show()\n",
    "    "
   ]
  },
  {
   "cell_type": "code",
   "execution_count": 76,
   "id": "33713586",
   "metadata": {},
   "outputs": [
    {
     "data": {
      "text/html": [
       "<div>\n",
       "<style scoped>\n",
       "    .dataframe tbody tr th:only-of-type {\n",
       "        vertical-align: middle;\n",
       "    }\n",
       "\n",
       "    .dataframe tbody tr th {\n",
       "        vertical-align: top;\n",
       "    }\n",
       "\n",
       "    .dataframe thead th {\n",
       "        text-align: right;\n",
       "    }\n",
       "</style>\n",
       "<table border=\"1\" class=\"dataframe\">\n",
       "  <thead>\n",
       "    <tr style=\"text-align: right;\">\n",
       "      <th></th>\n",
       "      <th>Mean</th>\n",
       "      <th>Median</th>\n",
       "    </tr>\n",
       "    <tr>\n",
       "      <th>Exited</th>\n",
       "      <th></th>\n",
       "      <th></th>\n",
       "    </tr>\n",
       "  </thead>\n",
       "  <tbody>\n",
       "    <tr>\n",
       "      <th>Not Exited</th>\n",
       "      <td>99738.391772</td>\n",
       "      <td>99645.04</td>\n",
       "    </tr>\n",
       "    <tr>\n",
       "      <th>Exited</th>\n",
       "      <td>101465.677531</td>\n",
       "      <td>102460.84</td>\n",
       "    </tr>\n",
       "  </tbody>\n",
       "</table>\n",
       "</div>"
      ],
      "text/plain": [
       "                    Mean     Median \n",
       "Exited                              \n",
       "Not Exited   99738.391772   99645.04\n",
       "Exited      101465.677531  102460.84"
      ]
     },
     "execution_count": 76,
     "metadata": {},
     "output_type": "execute_result"
    }
   ],
   "source": [
    "counts"
   ]
  },
  {
   "cell_type": "code",
   "execution_count": 78,
   "id": "e601e735",
   "metadata": {},
   "outputs": [
    {
     "data": {
      "image/png": "[encoded data removed]",
      "text/plain": [
       "<Figure size 640x480 with 1 Axes>"
      ]
     },
     "metadata": {},
     "output_type": "display_data"
    }
   ],
   "source": [
    "data_ex=data[data[\"Exited\"]==1].groupby(\"Gender\")[\"Exited\"].count()\n",
    "data_nex=data[data[\"Exited\"]==0].groupby(\"Gender\")[\"Exited\"].count()\n",
    "\n",
    "counts = pd.DataFrame({\n",
    "    \"Exited\": data_ex,\n",
    "    \"Not Exited\": data_nex})\n",
    "\n",
    "# Create bar plots \n",
    "x = np.arange(len(counts.index))\n",
    "width = 0.35\n",
    "\n",
    "exited=plt.bar(x - width/2, counts[\"Exited\"], width, label=\"Exited Customer\", color=\"#1f77b4\")\n",
    "n_exited=plt.bar(x + width/2, counts[\"Not Exited\"], width, label=\"Not Exited Customer\", color=\"#ff7f0e\")\n",
    "\n",
    "# Add labels and formatting\n",
    "plt.xlabel(\"Gender\")\n",
    "plt.ylabel(\"Count of customers\")\n",
    "tit=\"Customer Gender Vs Exit status\"\n",
    "plt.title(tit)\n",
    "plt.xticks(x, counts.index)\n",
    "plt.legend(loc='lower center')\n",
    "# plt.tight_layout()\n",
    "\n",
    "\n",
    "\n",
    "\n",
    "\n",
    "# Show the plot\n",
    "plt.show()\n",
    "    "
   ]
  },
  {
   "cell_type": "code",
   "execution_count": 79,
   "id": "c68735b8",
   "metadata": {},
   "outputs": [
    {
     "data": {
      "image/png": "[encoded data removed]",
      "text/plain": [
       "<Figure size 640x480 with 1 Axes>"
      ]
     },
     "metadata": {},
     "output_type": "display_data"
    }
   ],
   "source": [
    "data_ex=data[data[\"Exited\"]==1].groupby(\"Geography\")[\"Exited\"].count()\n",
    "data_nex=data[data[\"Exited\"]==0].groupby(\"Geography\")[\"Exited\"].count()\n",
    "\n",
    "counts = pd.DataFrame({\n",
    "    \"Exited\": data_ex,\n",
    "    \"Not Exited\": data_nex})\n",
    "\n",
    "# Create bar plots \n",
    "x = np.arange(len(counts.index))\n",
    "width = 0.35\n",
    "exited=plt.bar(x - width/2, counts[\"Exited\"], width, label=\"Exited Customer\", color=\"#1f77b4\")\n",
    "n_exited=plt.bar(x + width/2, counts[\"Not Exited\"], width, label=\"Not Exited Customer\", color=\"#ff7f0e\")\n",
    "\n",
    "# Add labels and formatting\n",
    "plt.xlabel(\"Geography\")\n",
    "plt.ylabel(\"Count of customers\")\n",
    "tit=\"Customer Geography Vs Exit status\"\n",
    "plt.title(tit)\n",
    "plt.xticks(x, counts.index)\n",
    "plt.legend(loc='lower center')\n",
    "# plt.tight_layout()\n",
    "\n",
    "\n",
    "\n",
    "\n",
    "\n",
    "# Show the plot\n",
    "plt.show()\n",
    "    "
   ]
  },
  {
   "cell_type": "markdown",
   "id": "4586aba1",
   "metadata": {},
   "source": [
    "<!-- **Summary from EDA:**\n",
    "<div style=\"text-align: left; color: yellow;\">\n",
    "\n",
    "1. No missing Values\n",
    "\n",
    "2. All data set columns now are  a numerical values .\n",
    "\n",
    "3. the mean and the median are nearly for most of the features .\n",
    "\n",
    "4. Imbalance in the dataset (Exited(1) customers are less than not exited(0) customers)\n",
    "\n",
    "5. Mean of some features are clearly different  for the grouped goal class (Exited)\n",
    "</div> -->"
   ]
  },
  {
   "cell_type": "markdown",
   "id": "c3a9d871",
   "metadata": {},
   "source": [
    "# Box Plot to find the outliers"
   ]
  },
  {
   "cell_type": "code",
   "execution_count": 80,
   "id": "dccf7935",
   "metadata": {},
   "outputs": [
    {
     "data": {
      "image/png": "[encoded data removed]",
      "text/plain": [
       "<Figure size 640x480 with 1 Axes>"
      ]
     },
     "metadata": {},
     "output_type": "display_data"
    },
    {
     "data": {
      "image/png": "[encoded data removed]",
      "text/plain": [
       "<Figure size 640x480 with 1 Axes>"
      ]
     },
     "metadata": {},
     "output_type": "display_data"
    },
    {
     "data": {
      "image/png": "[encoded data removed]",
      "text/plain": [
       "<Figure size 640x480 with 1 Axes>"
      ]
     },
     "metadata": {},
     "output_type": "display_data"
    },
    {
     "data": {
      "image/png": "[encoded data removed]",
      "text/plain": [
       "<Figure size 640x480 with 1 Axes>"
      ]
     },
     "metadata": {},
     "output_type": "display_data"
    },
    {
     "data": {
      "image/png": "[encoded data removed]",
      "text/plain": [
       "<Figure size 640x480 with 1 Axes>"
      ]
     },
     "metadata": {},
     "output_type": "display_data"
    },
    {
     "data": {
      "image/png": "[encoded data removed]",
      "text/plain": [
       "<Figure size 640x480 with 1 Axes>"
      ]
     },
     "metadata": {},
     "output_type": "display_data"
    }
   ],
   "source": [
    "features=['Credit score','Age', 'Tenure ', 'Balance', 'NumOfProducts', 'EstimatedSalary']\n",
    "\n",
    "for f in features :\n",
    "    plt.boxplot(data[f],boxprops=dict(color=\"blue\", linewidth=1.5),  # Box border color\n",
    "        whiskerprops=dict(color=\"purple\", linewidth=1.5),  # Whisker color\n",
    "        capprops=dict(color=\"green\", linewidth=1.5),  # Cap color\n",
    "        medianprops=dict(color=\"red\", linewidth=2),  # Median line color\n",
    "        flierprops=dict(marker='o', color='orange', markersize=5))\n",
    "    # Add labels and formatting\n",
    "    # plt.xlabel(\"Exited Group\")\n",
    "    plt.ylabel(f)\n",
    "    tit=f+\" Box plot\"\n",
    "    plt.title(tit,fontsize=12, color=\"#1f77b4\")\n",
    "    # plt.xticks(x, counts.index)\n",
    "    # plt.legend(loc='lower center')\n",
    "    # plt.tight_layout()\n",
    "\n",
    "\n",
    "\n",
    "\n",
    "\n",
    "    # Show the plot\n",
    "    plt.show()\n",
    "    "
   ]
  },
  {
   "cell_type": "markdown",
   "id": "51a2b5f6",
   "metadata": {},
   "source": [
    "\n",
    "<div style=\"text-align: left; color: yellow;\">\n",
    "\n",
    "from Boxplots there are outliers are detected in below 3 features \n",
    "\n",
    "1-Credit Score\n",
    "\n",
    "2-Age\n",
    "\n",
    "3-Number of products\n",
    "</div>"
   ]
  },
  {
   "cell_type": "markdown",
   "id": "d73be78c",
   "metadata": {},
   "source": [
    "# Find Outliers"
   ]
  },
  {
   "cell_type": "code",
   "execution_count": 82,
   "id": "a4336111",
   "metadata": {},
   "outputs": [
    {
     "name": "stdout",
     "output_type": "stream",
     "text": [
      "Nu of ouliers for  Credit score  =  15\n",
      "Nu of ouliers for  Age  =  359\n",
      "Nu of ouliers for  Tenure   =  0\n",
      "Nu of ouliers for  Balance  =  0\n",
      "Nu of ouliers for  NumOfProducts  =  60\n",
      "Nu of ouliers for  EstimatedSalary  =  0\n"
     ]
    }
   ],
   "source": [
    "features=['Credit score','Age', 'Tenure ', 'Balance', 'NumOfProducts', 'EstimatedSalary']\n",
    "outliers={}\n",
    "for f in features:\n",
    "    q1=data[f].quantile(0.25)\n",
    "    q3=data[f].quantile(0.75)\n",
    "    lower_bnd=q1-1.5*(q3-q1)\n",
    "    upper_bnd=q3+1.5*(q3-q1)\n",
    "    outliers[f]=data[(data[f]>upper_bnd) | (data[f]<lower_bnd)]\n",
    "    print(\"Nu of ouliers for \",f,\" = \",len(outliers[f]))\n",
    "\n"
   ]
  },
  {
   "cell_type": "markdown",
   "id": "5a5cc5d6",
   "metadata": {},
   "source": [
    "\n",
    "<div style=\"text-align: left; color: yellow;\">\n",
    "\n",
    "\n",
    "Nu of ouliers for  Credit score  =  15\n",
    "\n",
    "\n",
    "Nu of ouliers for  Age  =  359\n",
    "\n",
    "Nu of ouliers for  NumOfProducts  =  60\n",
    "\n",
    "\n",
    "</div>"
   ]
  },
  {
   "cell_type": "markdown",
   "id": "b992be8d",
   "metadata": {},
   "source": [
    "# Drop Outliers\n",
    "\n"
   ]
  },
  {
   "cell_type": "code",
   "execution_count": 83,
   "id": "7cb1f97c",
   "metadata": {},
   "outputs": [
    {
     "data": {
      "text/plain": [
       "(9568, 15)"
      ]
     },
     "execution_count": 83,
     "metadata": {},
     "output_type": "execute_result"
    }
   ],
   "source": [
    "Outliers_col=[\"Credit score\",\"Age\",\"NumOfProducts\"]\n",
    "for f in Outliers_col:\n",
    "    q1=data[f].quantile(0.25)\n",
    "    q3=data[f].quantile(0.75)\n",
    "    lower_bnd=q1-1.5*(q3-q1)\n",
    "    upper_bnd=q3+1.5*(q3-q1)\n",
    "    data=data[(data[f]<= upper_bnd) & (data[f]>=lower_bnd)]\n",
    "\n",
    "#expicted shape is the same Nu columns while rows will be decreased by 15+359+60\n",
    "data.shape\n",
    "    "
   ]
  },
  {
   "cell_type": "markdown",
   "id": "ec7ccf6c",
   "metadata": {},
   "source": [
    "Drop unused columns"
   ]
  },
  {
   "cell_type": "code",
   "execution_count": 84,
   "id": "2b787948",
   "metadata": {},
   "outputs": [],
   "source": [
    "data = data.drop(columns=[\"Geography\"])\n",
    "data.drop(columns='Gender', axis=1, inplace=True)"
   ]
  },
  {
   "cell_type": "markdown",
   "id": "e9333310",
   "metadata": {},
   "source": [
    "\n",
    "\n",
    "# Summary from EDA:\n",
    "<div style=\"text-align: left; color: yellow;\">\n",
    "\n",
    "No missing Values\n",
    "\n",
    "All data set columns now are a numerical values .\n",
    "\n",
    "the mean and the median are nearly for most of the features .\n",
    "\n",
    "Imbalance in the dataset (Exited(1) customers are less than not exited(0) customers)\n",
    "\n",
    "Mean of some features are clearly different for the grouped goal class (Exited)\n",
    "\n",
    " </div>"
   ]
  },
  {
   "cell_type": "markdown",
   "id": "68d46ee6",
   "metadata": {},
   "source": []
  }
 ],
 "metadata": {
  "kernelspec": {
   "display_name": "base",
   "language": "python",
   "name": "python3"
  },
  "language_info": {
   "codemirror_mode": {
    "name": "ipython",
    "version": 3
   },
   "file_extension": ".py",
   "mimetype": "text/x-python",
   "name": "python",
   "nbconvert_exporter": "python",
   "pygments_lexer": "ipython3",
   "version": "3.12.3"
  }
 },
 "nbformat": 4,
 "nbformat_minor": 5
}
